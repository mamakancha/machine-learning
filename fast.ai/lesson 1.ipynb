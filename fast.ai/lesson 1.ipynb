{
 "cells": [
  {
   "cell_type": "markdown",
   "metadata": {},
   "source": [
    "## Introduction\n",
    "\n",
    "Neural networks are universal approximating machines. To fit the parameters for the function, we use Gradient Descent. \n",
    "\n",
    "We are able to make this function fast with the help of GPU since GPUs are based on mostly based on matrix operations (on pixels) which is also what we want for Deep learning. We need NVIDIA GPU as they support CUDA. Amazon provides us GPU instances called P2 instances.\n"
   ]
  },
  {
   "cell_type": "raw",
   "metadata": {},
   "source": [
    "To run the instances we use AWS cli. For this use the alias.sh file in the fast-ai course in documents folder and go to setup. "
   ]
  },
  {
   "cell_type": "code",
   "execution_count": null,
   "metadata": {},
   "outputs": [],
   "source": [
    "# To run the aws-alias.sh\n",
    "# | source aws-alias.sh\n",
    "# | aws-get-p2\n",
    "# this line will get the instance id for the p2 instance and save it in variable \n",
    "#`instanceId`\n",
    "# to start the instance\n",
    "# | aws-start. This will start the instance and queries for the ip and prints it out\n",
    "# | aws-ssh. This will then ssh into that instance\n"
   ]
  },
  {
   "cell_type": "raw",
   "metadata": {},
   "source": [
    "Now we are inside our aws instance. AWS has something called AMI (Amazon Machine Images). It is basically a snapshot of the computer at a particular instance of time. We can start our instance using a copy of that snapshot. In the script given, there was an AMI which already had all the things installed."
   ]
  },
  {
   "cell_type": "raw",
   "metadata": {},
   "source": [
    "When we type `jupyter notebook` in the aws ssh, it returns us the port which we should append with our ip address obtained from 'aws-start`. "
   ]
  },
  {
   "cell_type": "raw",
   "metadata": {},
   "source": [
    "2 notebooks can be run in parallel compeletely separate from each other."
   ]
  }
 ],
 "metadata": {
  "kernelspec": {
   "display_name": "Python 3",
   "language": "python",
   "name": "python3"
  },
  "language_info": {
   "codemirror_mode": {
    "name": "ipython",
    "version": 3
   },
   "file_extension": ".py",
   "mimetype": "text/x-python",
   "name": "python",
   "nbconvert_exporter": "python",
   "pygments_lexer": "ipython3",
   "version": "3.5.2"
  }
 },
 "nbformat": 4,
 "nbformat_minor": 2
}
